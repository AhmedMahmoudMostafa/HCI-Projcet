{
 "cells": [
  {
   "cell_type": "code",
   "execution_count": 2,
   "metadata": {
    "id": "GCIwreYho26h"
   },
   "outputs": [
    {
     "name": "stdout",
     "output_type": "stream",
     "text": [
      "Requirement already satisfied: deepface in c:\\users\\ahmme\\anaconda3\\lib\\site-packages (0.0.80)\n",
      "Requirement already satisfied: numpy>=1.14.0 in c:\\users\\ahmme\\anaconda3\\lib\\site-packages (from deepface) (1.24.3)\n",
      "Requirement already satisfied: pandas>=0.23.4 in c:\\users\\ahmme\\anaconda3\\lib\\site-packages (from deepface) (1.5.3)\n",
      "Requirement already satisfied: gdown>=3.10.1 in c:\\users\\ahmme\\anaconda3\\lib\\site-packages (from deepface) (4.7.1)\n",
      "Requirement already satisfied: tqdm>=4.30.0 in c:\\users\\ahmme\\anaconda3\\lib\\site-packages (from deepface) (4.65.0)\n",
      "Requirement already satisfied: Pillow>=5.2.0 in c:\\users\\ahmme\\anaconda3\\lib\\site-packages (from deepface) (9.4.0)\n",
      "Requirement already satisfied: opencv-python>=4.5.5.64 in c:\\users\\ahmme\\anaconda3\\lib\\site-packages (from deepface) (4.8.1.78)\n",
      "Requirement already satisfied: tensorflow>=1.9.0 in c:\\users\\ahmme\\anaconda3\\lib\\site-packages (from deepface) (2.15.0)\n",
      "Requirement already satisfied: keras>=2.2.0 in c:\\users\\ahmme\\anaconda3\\lib\\site-packages (from deepface) (2.15.0)\n",
      "Requirement already satisfied: Flask>=1.1.2 in c:\\users\\ahmme\\anaconda3\\lib\\site-packages (from deepface) (2.2.2)\n",
      "Requirement already satisfied: mtcnn>=0.1.0 in c:\\users\\ahmme\\anaconda3\\lib\\site-packages (from deepface) (0.1.1)\n",
      "Requirement already satisfied: retina-face>=0.0.1 in c:\\users\\ahmme\\anaconda3\\lib\\site-packages (from deepface) (0.0.13)\n",
      "Requirement already satisfied: fire>=0.4.0 in c:\\users\\ahmme\\anaconda3\\lib\\site-packages (from deepface) (0.5.0)\n",
      "Requirement already satisfied: gunicorn>=20.1.0 in c:\\users\\ahmme\\anaconda3\\lib\\site-packages (from deepface) (21.2.0)\n",
      "Requirement already satisfied: Deprecated>=1.2.13 in c:\\users\\ahmme\\anaconda3\\lib\\site-packages (from deepface) (1.2.14)\n",
      "Requirement already satisfied: wrapt<2,>=1.10 in c:\\users\\ahmme\\anaconda3\\lib\\site-packages (from Deprecated>=1.2.13->deepface) (1.14.1)\n",
      "Requirement already satisfied: six in c:\\users\\ahmme\\anaconda3\\lib\\site-packages (from fire>=0.4.0->deepface) (1.16.0)\n",
      "Requirement already satisfied: termcolor in c:\\users\\ahmme\\anaconda3\\lib\\site-packages (from fire>=0.4.0->deepface) (2.4.0)\n",
      "Requirement already satisfied: Werkzeug>=2.2.2 in c:\\users\\ahmme\\anaconda3\\lib\\site-packages (from Flask>=1.1.2->deepface) (2.2.3)\n",
      "Requirement already satisfied: Jinja2>=3.0 in c:\\users\\ahmme\\anaconda3\\lib\\site-packages (from Flask>=1.1.2->deepface) (3.1.2)\n",
      "Requirement already satisfied: itsdangerous>=2.0 in c:\\users\\ahmme\\anaconda3\\lib\\site-packages (from Flask>=1.1.2->deepface) (2.0.1)\n",
      "Requirement already satisfied: click>=8.0 in c:\\users\\ahmme\\anaconda3\\lib\\site-packages (from Flask>=1.1.2->deepface) (8.0.4)\n",
      "Requirement already satisfied: filelock in c:\\users\\ahmme\\anaconda3\\lib\\site-packages (from gdown>=3.10.1->deepface) (3.9.0)\n",
      "Requirement already satisfied: requests[socks] in c:\\users\\ahmme\\anaconda3\\lib\\site-packages (from gdown>=3.10.1->deepface) (2.31.0)\n",
      "Requirement already satisfied: beautifulsoup4 in c:\\users\\ahmme\\anaconda3\\lib\\site-packages (from gdown>=3.10.1->deepface) (4.12.2)\n",
      "Requirement already satisfied: packaging in c:\\users\\ahmme\\anaconda3\\lib\\site-packages (from gunicorn>=20.1.0->deepface) (23.0)\n",
      "Requirement already satisfied: python-dateutil>=2.8.1 in c:\\users\\ahmme\\anaconda3\\lib\\site-packages (from pandas>=0.23.4->deepface) (2.8.2)\n",
      "Requirement already satisfied: pytz>=2020.1 in c:\\users\\ahmme\\anaconda3\\lib\\site-packages (from pandas>=0.23.4->deepface) (2022.7)\n",
      "Requirement already satisfied: tensorflow-intel==2.15.0 in c:\\users\\ahmme\\anaconda3\\lib\\site-packages (from tensorflow>=1.9.0->deepface) (2.15.0)\n",
      "Requirement already satisfied: absl-py>=1.0.0 in c:\\users\\ahmme\\anaconda3\\lib\\site-packages (from tensorflow-intel==2.15.0->tensorflow>=1.9.0->deepface) (2.0.0)\n",
      "Requirement already satisfied: astunparse>=1.6.0 in c:\\users\\ahmme\\anaconda3\\lib\\site-packages (from tensorflow-intel==2.15.0->tensorflow>=1.9.0->deepface) (1.6.3)\n",
      "Requirement already satisfied: flatbuffers>=23.5.26 in c:\\users\\ahmme\\anaconda3\\lib\\site-packages (from tensorflow-intel==2.15.0->tensorflow>=1.9.0->deepface) (23.5.26)\n",
      "Requirement already satisfied: gast!=0.5.0,!=0.5.1,!=0.5.2,>=0.2.1 in c:\\users\\ahmme\\anaconda3\\lib\\site-packages (from tensorflow-intel==2.15.0->tensorflow>=1.9.0->deepface) (0.5.4)\n",
      "Requirement already satisfied: google-pasta>=0.1.1 in c:\\users\\ahmme\\anaconda3\\lib\\site-packages (from tensorflow-intel==2.15.0->tensorflow>=1.9.0->deepface) (0.2.0)\n",
      "Requirement already satisfied: h5py>=2.9.0 in c:\\users\\ahmme\\anaconda3\\lib\\site-packages (from tensorflow-intel==2.15.0->tensorflow>=1.9.0->deepface) (3.7.0)\n",
      "Requirement already satisfied: libclang>=13.0.0 in c:\\users\\ahmme\\anaconda3\\lib\\site-packages (from tensorflow-intel==2.15.0->tensorflow>=1.9.0->deepface) (16.0.6)\n",
      "Requirement already satisfied: ml-dtypes~=0.2.0 in c:\\users\\ahmme\\anaconda3\\lib\\site-packages (from tensorflow-intel==2.15.0->tensorflow>=1.9.0->deepface) (0.2.0)\n",
      "Requirement already satisfied: opt-einsum>=2.3.2 in c:\\users\\ahmme\\anaconda3\\lib\\site-packages (from tensorflow-intel==2.15.0->tensorflow>=1.9.0->deepface) (3.3.0)\n",
      "Requirement already satisfied: protobuf!=4.21.0,!=4.21.1,!=4.21.2,!=4.21.3,!=4.21.4,!=4.21.5,<5.0.0dev,>=3.20.3 in c:\\users\\ahmme\\anaconda3\\lib\\site-packages (from tensorflow-intel==2.15.0->tensorflow>=1.9.0->deepface) (3.20.3)\n",
      "Requirement already satisfied: setuptools in c:\\users\\ahmme\\anaconda3\\lib\\site-packages (from tensorflow-intel==2.15.0->tensorflow>=1.9.0->deepface) (68.0.0)\n",
      "Requirement already satisfied: typing-extensions>=3.6.6 in c:\\users\\ahmme\\anaconda3\\lib\\site-packages (from tensorflow-intel==2.15.0->tensorflow>=1.9.0->deepface) (4.7.1)\n",
      "Requirement already satisfied: tensorflow-io-gcs-filesystem>=0.23.1 in c:\\users\\ahmme\\anaconda3\\lib\\site-packages (from tensorflow-intel==2.15.0->tensorflow>=1.9.0->deepface) (0.31.0)\n",
      "Requirement already satisfied: grpcio<2.0,>=1.24.3 in c:\\users\\ahmme\\anaconda3\\lib\\site-packages (from tensorflow-intel==2.15.0->tensorflow>=1.9.0->deepface) (1.60.0)\n",
      "Requirement already satisfied: tensorboard<2.16,>=2.15 in c:\\users\\ahmme\\anaconda3\\lib\\site-packages (from tensorflow-intel==2.15.0->tensorflow>=1.9.0->deepface) (2.15.1)\n",
      "Requirement already satisfied: tensorflow-estimator<2.16,>=2.15.0 in c:\\users\\ahmme\\anaconda3\\lib\\site-packages (from tensorflow-intel==2.15.0->tensorflow>=1.9.0->deepface) (2.15.0)\n",
      "Requirement already satisfied: colorama in c:\\users\\ahmme\\anaconda3\\lib\\site-packages (from tqdm>=4.30.0->deepface) (0.4.6)\n",
      "Requirement already satisfied: MarkupSafe>=2.0 in c:\\users\\ahmme\\anaconda3\\lib\\site-packages (from Jinja2>=3.0->Flask>=1.1.2->deepface) (2.1.1)\n",
      "Requirement already satisfied: soupsieve>1.2 in c:\\users\\ahmme\\anaconda3\\lib\\site-packages (from beautifulsoup4->gdown>=3.10.1->deepface) (2.4)\n",
      "Requirement already satisfied: charset-normalizer<4,>=2 in c:\\users\\ahmme\\anaconda3\\lib\\site-packages (from requests[socks]->gdown>=3.10.1->deepface) (2.0.4)\n",
      "Requirement already satisfied: idna<4,>=2.5 in c:\\users\\ahmme\\anaconda3\\lib\\site-packages (from requests[socks]->gdown>=3.10.1->deepface) (3.4)\n",
      "Requirement already satisfied: urllib3<3,>=1.21.1 in c:\\users\\ahmme\\anaconda3\\lib\\site-packages (from requests[socks]->gdown>=3.10.1->deepface) (1.26.16)\n",
      "Requirement already satisfied: certifi>=2017.4.17 in c:\\users\\ahmme\\anaconda3\\lib\\site-packages (from requests[socks]->gdown>=3.10.1->deepface) (2023.7.22)\n",
      "Requirement already satisfied: PySocks!=1.5.7,>=1.5.6 in c:\\users\\ahmme\\anaconda3\\lib\\site-packages (from requests[socks]->gdown>=3.10.1->deepface) (1.7.1)\n",
      "Requirement already satisfied: wheel<1.0,>=0.23.0 in c:\\users\\ahmme\\anaconda3\\lib\\site-packages (from astunparse>=1.6.0->tensorflow-intel==2.15.0->tensorflow>=1.9.0->deepface) (0.38.4)\n",
      "Requirement already satisfied: google-auth<3,>=1.6.3 in c:\\users\\ahmme\\anaconda3\\lib\\site-packages (from tensorboard<2.16,>=2.15->tensorflow-intel==2.15.0->tensorflow>=1.9.0->deepface) (2.25.2)\n",
      "Requirement already satisfied: google-auth-oauthlib<2,>=0.5 in c:\\users\\ahmme\\anaconda3\\lib\\site-packages (from tensorboard<2.16,>=2.15->tensorflow-intel==2.15.0->tensorflow>=1.9.0->deepface) (1.2.0)\n",
      "Requirement already satisfied: markdown>=2.6.8 in c:\\users\\ahmme\\anaconda3\\lib\\site-packages (from tensorboard<2.16,>=2.15->tensorflow-intel==2.15.0->tensorflow>=1.9.0->deepface) (3.4.1)\n",
      "Requirement already satisfied: tensorboard-data-server<0.8.0,>=0.7.0 in c:\\users\\ahmme\\anaconda3\\lib\\site-packages (from tensorboard<2.16,>=2.15->tensorflow-intel==2.15.0->tensorflow>=1.9.0->deepface) (0.7.2)\n",
      "Requirement already satisfied: cachetools<6.0,>=2.0.0 in c:\\users\\ahmme\\anaconda3\\lib\\site-packages (from google-auth<3,>=1.6.3->tensorboard<2.16,>=2.15->tensorflow-intel==2.15.0->tensorflow>=1.9.0->deepface) (5.3.2)\n",
      "Requirement already satisfied: pyasn1-modules>=0.2.1 in c:\\users\\ahmme\\anaconda3\\lib\\site-packages (from google-auth<3,>=1.6.3->tensorboard<2.16,>=2.15->tensorflow-intel==2.15.0->tensorflow>=1.9.0->deepface) (0.2.8)\n",
      "Requirement already satisfied: rsa<5,>=3.1.4 in c:\\users\\ahmme\\anaconda3\\lib\\site-packages (from google-auth<3,>=1.6.3->tensorboard<2.16,>=2.15->tensorflow-intel==2.15.0->tensorflow>=1.9.0->deepface) (4.9)\n",
      "Requirement already satisfied: requests-oauthlib>=0.7.0 in c:\\users\\ahmme\\anaconda3\\lib\\site-packages (from google-auth-oauthlib<2,>=0.5->tensorboard<2.16,>=2.15->tensorflow-intel==2.15.0->tensorflow>=1.9.0->deepface) (1.3.1)\n",
      "Requirement already satisfied: pyasn1<0.5.0,>=0.4.6 in c:\\users\\ahmme\\anaconda3\\lib\\site-packages (from pyasn1-modules>=0.2.1->google-auth<3,>=1.6.3->tensorboard<2.16,>=2.15->tensorflow-intel==2.15.0->tensorflow>=1.9.0->deepface) (0.4.8)\n",
      "Requirement already satisfied: oauthlib>=3.0.0 in c:\\users\\ahmme\\anaconda3\\lib\\site-packages (from requests-oauthlib>=0.7.0->google-auth-oauthlib<2,>=0.5->tensorboard<2.16,>=2.15->tensorflow-intel==2.15.0->tensorflow>=1.9.0->deepface) (3.2.2)\n",
      "Note: you may need to restart the kernel to use updated packages.\n"
     ]
    }
   ],
   "source": [
    "pip install deepface"
   ]
  },
  {
   "cell_type": "code",
   "execution_count": 4,
   "metadata": {
    "executionInfo": {
     "elapsed": 340,
     "status": "ok",
     "timestamp": 1698496318087,
     "user": {
      "displayName": "Momen Ibrahem Mohamed",
      "userId": "01476529107739568738"
     },
     "user_tz": -120
    },
    "id": "bPVHX_dQpBYL"
   },
   "outputs": [],
   "source": [
    "import cv2\n",
    "from deepface import DeepFace\n",
    "import cv2"
   ]
  },
  {
   "cell_type": "code",
   "execution_count": null,
   "metadata": {},
   "outputs": [
    {
     "name": "stderr",
     "output_type": "stream",
     "text": [
      "Action: emotion: 100%|██████████| 4/4 [00:01<00:00,  3.50it/s]\n"
     ]
    },
    {
     "name": "stdout",
     "output_type": "stream",
     "text": [
      "dominant_emotion:: neutral\n",
      "[{'age': 29, 'region': {'x': 204, 'y': 144, 'w': 275, 'h': 275}, 'face_confidence': 7.158608998579439, 'gender': {'Woman': 0.001975606573978439, 'Man': 99.99802112579346}, 'dominant_gender': 'Man', 'race': {'asian': 0.503592612221837, 'indian': 13.243009150028229, 'black': 0.1696423627436161, 'white': 8.54312777519226, 'middle eastern': 61.20404601097107, 'latino hispanic': 16.336584091186523}, 'dominant_race': 'middle eastern', 'emotion': {'angry': 0.06154132424853742, 'disgust': 5.1726564654838714e-11, 'fear': 0.8020701818168163, 'happy': 0.002452050830470398, 'sad': 0.19973341841250658, 'surprise': 0.03319231327623129, 'neutral': 98.90101552009583}, 'dominant_emotion': 'neutral'}]\n"
     ]
    }
   ],
   "source": [
    "import cv2\n",
    "from deepface import DeepFace\n",
    "import time\n",
    "\n",
    "# Create a VideoCapture object for the camera (0 is usually the default camera)\n",
    "cap = cv2.VideoCapture(0)\n",
    "\n",
    "# Define the required outputs for face analysis\n",
    "required_outputs = ['age', 'gender', 'race', 'emotion']\n",
    "\n",
    "# Set a smaller frame size for faster processing\n",
    "frame_width = 640\n",
    "frame_height = 480\n",
    "cap.set(3, frame_width)\n",
    "cap.set(4, frame_height)\n",
    "\n",
    "# Counter to keep track of frames\n",
    "frame_count = 0\n",
    "\n",
    "# Time to keep track of the last analysis\n",
    "last_analysis_time = time.time()\n",
    "\n",
    "# Perform face analysis every 30 seconds\n",
    "analysis_interval = 20  # seconds\n",
    "\n",
    "while True:\n",
    "    # Capture frame-by-frame\n",
    "    ret, frame = cap.read()\n",
    "\n",
    "    # Resize the frame to a smaller size\n",
    "    frame = cv2.resize(frame, (frame_width, frame_height))\n",
    "\n",
    "    # Perform face analysis every 30 seconds\n",
    "    current_time = time.time()\n",
    "    if current_time - last_analysis_time >= analysis_interval:\n",
    "        result = DeepFace.analyze(frame, actions=required_outputs)\n",
    "        print('dominant_emotion::',result[0]['dominant_emotion'])\n",
    "\n",
    "        # Display the frame with face analysis results\n",
    "        cv2.imshow('Face Analysis', frame)\n",
    "\n",
    "        # Display the face analysis results in the console\n",
    "        print(result)\n",
    "\n",
    "        # Update the last analysis time\n",
    "        last_analysis_time = current_time\n",
    "\n",
    "    # Increment frame count\n",
    "    frame_count += 1\n",
    "\n",
    "    # Add a delay between frame captures (adjust delay as needed)\n",
    "    cv2.waitKey(20)\n",
    "\n",
    "    # Break the loop if 'q' key is pressed\n",
    "    if cv2.waitKey(1) & 0xFF == ord('q'):\n",
    "        break\n",
    "\n",
    "# Release the camera when the program is finished\n",
    "cap.release()\n",
    "cv2.destroyAllWindows()\n"
   ]
  },
  {
   "cell_type": "code",
   "execution_count": null,
   "metadata": {},
   "outputs": [],
   "source": [
    "cap.release()\n",
    "cv2.destroyAllWindows()"
   ]
  },
  {
   "cell_type": "code",
   "execution_count": null,
   "metadata": {},
   "outputs": [],
   "source": []
  }
 ],
 "metadata": {
  "colab": {
   "authorship_tag": "ABX9TyMkCxR+QT9UpDQ77DS5we04",
   "provenance": []
  },
  "kernelspec": {
   "display_name": "Python 3 (ipykernel)",
   "language": "python",
   "name": "python3"
  },
  "language_info": {
   "codemirror_mode": {
    "name": "ipython",
    "version": 3
   },
   "file_extension": ".py",
   "mimetype": "text/x-python",
   "name": "python",
   "nbconvert_exporter": "python",
   "pygments_lexer": "ipython3",
   "version": "3.11.4"
  }
 },
 "nbformat": 4,
 "nbformat_minor": 1
}
